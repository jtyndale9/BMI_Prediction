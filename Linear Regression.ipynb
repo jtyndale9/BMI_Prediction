{
 "cells": [
  {
   "cell_type": "markdown",
   "id": "d8d36233",
   "metadata": {},
   "source": [
    "### Questions\n",
    "\n",
    "Dataset : https://www.kaggle.com/uciml/pima-indians-diabetes-database\n",
    "\n",
    "1. Split the dataset (80, 20) into training and testing set.\n",
    "2. Train a Linear Regression model to predict \"BMI\" using all other features available in the dataset.\n",
    "3. Plot the \"Cost function vs Iterations\" curve.\n",
    "4. Perform greedy search to find optimal learning rate.  \n",
    "5. Plot the \"Predicted BMI value($\\hat{Y}_i$)\" vs \"Actual BMI value(${Y}_i$)\" curve (Scatter Plot).\n",
    "6. Perform PCA on the dataset and reduce the dimensionality to 2 and train a new model on these newly obtained features.\n",
    "7. Plot the \"Cost function vs Iterations\" curve for this new model.\n",
    "8. Plot the \"Predicted BMI value($\\hat{Y}_i$) of the new model\" vs \"Actual BMI value(${Y}_i$)\" curve(it is a scatter plot)\n",
    "9. Show the scatter plot of PCA generated new features and also show the linear regression curve that you got from new model.\n",
    "\n",
    "**You can use libraries to solve these questions**"
   ]
  },
  {
   "attachments": {
    "400px-Linear_regression.svg.png": {
     "image/png": "[encoded data removed]"
    }
   },
   "cell_type": "markdown",
   "id": "94520c10",
   "metadata": {},
   "source": [
    "Sample plot for 8th step\n",
    "![400px-Linear_regression.svg.png](attachment:400px-Linear_regression.svg.png)"
   ]
  },
  {
   "cell_type": "markdown",
   "id": "f5188085",
   "metadata": {},
   "source": [
    "# Train a Linear Regression model to predict \"BMI\" using all other features available in the dataset."
   ]
  },
  {
   "cell_type": "markdown",
   "id": "f5780b25",
   "metadata": {},
   "source": [
    "## Import"
   ]
  },
  {
   "cell_type": "code",
   "execution_count": 1,
   "id": "33b38d7f",
   "metadata": {},
   "outputs": [],
   "source": [
    "# import all nececssary libraries\n",
    "# split the dataset into train and test set\n",
    "import numpy as np\n",
    "import matplotlib.pyplot as plt\n",
    "plt.style.use(['ggplot'])\n",
    "%matplotlib inline"
   ]
  },
  {
   "cell_type": "markdown",
   "id": "75156b69",
   "metadata": {},
   "source": [
    "## Load in the data\n",
    "### Set BMI as the target value and all other values as features"
   ]
  },
  {
   "cell_type": "code",
   "execution_count": 2,
   "id": "124c892d",
   "metadata": {},
   "outputs": [],
   "source": [
    "def extractfeatures(filename):\n",
    "    x=np.genfromtxt(filename,delimiter=',')\n",
    "    \n",
    "    xfeatures = x[:,(0,1,2,3,4,6,7,8)] #get all columns, leaving out the BMI column - features\n",
    "    y = x[:,5] #get the BMI column\n",
    "    \n",
    "    return xfeatures, y"
   ]
  },
  {
   "cell_type": "code",
   "execution_count": 3,
   "id": "f50839ac",
   "metadata": {},
   "outputs": [
    {
     "name": "stdout",
     "output_type": "stream",
     "text": [
      "Loaded 769 training examples\n"
     ]
    }
   ],
   "source": [
    "#Load the data\n",
    "X,y=extractfeatures('diabetes.csv')#loading data from training dataset\n",
    "m=len(y) # number of training examples\n",
    "print(\"Loaded\",str(m), \"training examples\")"
   ]
  },
  {
   "cell_type": "markdown",
   "id": "a402df58",
   "metadata": {},
   "source": [
    "## Delete first row of 'nan's"
   ]
  },
  {
   "cell_type": "code",
   "execution_count": 4,
   "id": "43e0e9c3",
   "metadata": {},
   "outputs": [],
   "source": [
    "# Delete first nan value in y and X\n",
    "y = np.delete(y, 0)\n",
    "X = np.delete(X, 0, axis=0) #delete the first row of nan values"
   ]
  },
  {
   "cell_type": "markdown",
   "id": "efc7692d",
   "metadata": {},
   "source": [
    "## Normalize the input data (features)"
   ]
  },
  {
   "cell_type": "code",
   "execution_count": 5,
   "id": "6ee697b1",
   "metadata": {},
   "outputs": [],
   "source": [
    "def normalizeFeatures(X):\n",
    "    \n",
    "    #Using Max/Min normalization\n",
    "    # X_normalized = (X-X_min)/(X_max-X_min)\n",
    "    \n",
    "    #print(\"X min:\")\n",
    "    #print(X.min())\n",
    "    #print(\"X max:\")\n",
    "    #print(X.max())\n",
    "    \n",
    "    X_manual_scaled = (X - X.min(axis=0)) / (X.max(axis=0) - X.min(axis=0))\n",
    "    return X_manual_scaled\n",
    "\n",
    "    ####Gives NaN values:\n",
    "    #norm_array = []\n",
    "    #for i in X.T: #loop through the transpose of the array. So each loop, a refference to X is all values of one feature\n",
    "    #    column_mean = np.mean(X) # get the mean of a single feature\n",
    "    #    print(X)\n",
    "    #    column_std_dev = np.std(X) #get the standard deviation of a single feature\n",
    "    #    #print(column_std_dev)\n",
    "    #    X_norm_current = (X - column_mean) / column_std_dev\n",
    "    #    norm_array.append(X_norm_current)\n",
    "    #return norm_array"
   ]
  },
  {
   "cell_type": "markdown",
   "id": "86973f46",
   "metadata": {},
   "source": [
    "#Normalize the data\n",
    "#X = np.delete(X, 0, axis=0) #delete the first row of nan values\n",
    "norm_X=np.apply_along_axis(normalizeFeatures, axis = 0, arr=X) #call the function one column at a time\n",
    "print(\"Data Normalization ended\")"
   ]
  },
  {
   "cell_type": "markdown",
   "id": "43b09237",
   "metadata": {},
   "source": [
    "#check that the values are now between 1 and 0\n",
    "print(norm_X.max())\n",
    "print(norm_X.min())"
   ]
  },
  {
   "cell_type": "code",
   "execution_count": 6,
   "id": "5b57d958",
   "metadata": {
    "scrolled": true
   },
   "outputs": [
    {
     "name": "stdout",
     "output_type": "stream",
     "text": [
      "Data Normalization ended\n"
     ]
    }
   ],
   "source": [
    "#Normalize the data\n",
    "norm_X=np.apply_along_axis(normalizeFeatures, axis = 0, arr=X) #call the function one column at a time\n",
    "print(\"Data Normalization ended\")"
   ]
  },
  {
   "cell_type": "markdown",
   "id": "05e7425f",
   "metadata": {},
   "source": [
    "## Split the dataset (80, 20) into training and testing set."
   ]
  },
  {
   "cell_type": "code",
   "execution_count": 7,
   "id": "7a563b77",
   "metadata": {},
   "outputs": [],
   "source": [
    "def split2D(inputArray):\n",
    "    train_num = m * 0.8 #multiply the number of items by 0.8 to get 80%\n",
    "    round(train_num,0) #round to the nearest whole number\n",
    "    train_num = int(train_num) #convert the slice index into an int\n",
    "    training, test = inputArray[:train_num,:], inputArray[train_num:,:] #set training to the first 80% and test to the last 20%\n",
    "    return training, test"
   ]
  },
  {
   "cell_type": "code",
   "execution_count": 8,
   "id": "72c2bbda",
   "metadata": {},
   "outputs": [],
   "source": [
    "def split1D(inputArray):\n",
    "    train_num = m * 0.8 #multiply the number of items by 0.8 to get 80%\n",
    "    round(train_num,0) #round to the nearest whole number\n",
    "    train_num = int(train_num) #convert the slice index into an int\n",
    "    training, test = inputArray[:train_num], inputArray[train_num:] #set training to the first 80% and test to the last 20%\n",
    "    return training, test"
   ]
  },
  {
   "cell_type": "code",
   "execution_count": 9,
   "id": "86e298fa",
   "metadata": {
    "scrolled": true
   },
   "outputs": [
    {
     "data": {
      "text/plain": [
       "array([[0.35294118, 0.74371859, 0.59016393, ..., 0.23441503, 0.48333333,\n",
       "        1.        ],\n",
       "       [0.05882353, 0.42713568, 0.54098361, ..., 0.11656704, 0.16666667,\n",
       "        0.        ],\n",
       "       [0.47058824, 0.91959799, 0.52459016, ..., 0.25362938, 0.18333333,\n",
       "        1.        ],\n",
       "       ...,\n",
       "       [0.41176471, 0.84422111, 0.72131148, ..., 0.30273271, 0.31666667,\n",
       "        1.        ],\n",
       "       [0.35294118, 0.52763819, 0.6557377 , ..., 0.34158839, 0.08333333,\n",
       "        0.        ],\n",
       "       [0.64705882, 0.69346734, 0.60655738, ..., 0.20452605, 0.48333333,\n",
       "        1.        ]])"
      ]
     },
     "execution_count": 9,
     "metadata": {},
     "output_type": "execute_result"
    }
   ],
   "source": [
    "#Split the data\n",
    "Xtraining, Xtest = split2D(norm_X) #split the X (features) into training and testing arrays\n",
    "ytraining, ytest = split1D(y) #split the y (or outcome) into training and testing arrays\n",
    "ytraining.reshape(615,-1)\n",
    "Xtraining.reshape(615,-1)"
   ]
  },
  {
   "cell_type": "code",
   "execution_count": 10,
   "id": "109a4223",
   "metadata": {
    "scrolled": true
   },
   "outputs": [
    {
     "name": "stdout",
     "output_type": "stream",
     "text": [
      "Number of X Training Samples: \n",
      "615\n",
      "Number of X Testing Samples: \n",
      "153\n",
      "Total Number of samples: \n",
      "768\n",
      "Number of y Training Samples: \n",
      "615\n",
      "Number of y Testing Samples: \n",
      "153\n",
      "Total Number of samples: \n",
      "768\n"
     ]
    }
   ],
   "source": [
    "print(\"Number of X Training Samples: \")\n",
    "print(len(Xtraining)) # number of training examples\n",
    "print(\"Number of X Testing Samples: \")\n",
    "print(len(Xtest))\n",
    "print(\"Total Number of samples: \")\n",
    "print(len(Xtest) + len(Xtraining))\n",
    "#########################################\n",
    "print(\"Number of y Training Samples: \")\n",
    "print(len(ytraining)) # number of training examples\n",
    "print(\"Number of y Testing Samples: \")\n",
    "print(len(ytest))\n",
    "print(\"Total Number of samples: \")\n",
    "print(len(ytest) + len(ytraining))"
   ]
  },
  {
   "cell_type": "markdown",
   "id": "3185ff8e",
   "metadata": {},
   "source": [
    "BMI_target = X.T[5] #Set the BMI target value to the 5th column, this is the target value\n",
    "new_X = np.vstack([X.T,y]) #Transpose X and add the diabetes (0/1) row onto our X features variable\n",
    "new_X.shape #(9,768) means 9 rows and each row is 768 long\n",
    "new_X = np.delete(new_X, 5, 0) #np delete (2d array to delet, object to delete, Axis) This is deleting BMI from the features\n",
    "new_X.shape #(8,768) means 8 rows and each row is 768 long\n",
    "new_X = new_X.T #Transpose the X features again to get it back to the original. Shape is now (768, 8)"
   ]
  },
  {
   "cell_type": "markdown",
   "id": "6d6b9ca5",
   "metadata": {},
   "source": [
    "## Analytical Solution of finding theta"
   ]
  },
  {
   "cell_type": "code",
   "execution_count": 11,
   "id": "c1e4a93b",
   "metadata": {},
   "outputs": [
    {
     "name": "stdout",
     "output_type": "stream",
     "text": [
      "[[19.7223945 ]\n",
      " [-0.4172547 ]\n",
      " [ 3.83953538]\n",
      " [ 9.47788701]\n",
      " [16.17369664]\n",
      " [-2.38838577]\n",
      " [ 1.12264462]\n",
      " [-1.06411272]\n",
      " [ 4.29431642]]\n"
     ]
    }
   ],
   "source": [
    "#Analytical Solution of finding theta\n",
    "#Calculate the theta values without actually training a model\n",
    "#Just use linear regression equation to calculate\n",
    "#A = np.c_[np.ones((norm_X.size,1)),norm_X]\n",
    "#theta = np.linalg.inv(A.T.dot(A)).dot(A.T).dot(y)    #x transpose into X (inverse), into X transpose into y\n",
    "#print('Theta (analytical): [ {:0.3f} , {:0.3f} ]^t'.format(theta[0],theta[1]))\n",
    "\n",
    "#Concatenate x_train list with matrix of 1's and compute the coefficient matrix\n",
    "\n",
    "ones_matrix = np.ones((615,1)) # create a matrix with 768 rows and 1 column filled with ones\n",
    "x_train_matrix = np.matrix(Xtraining) # copy the x training matrix\n",
    "concatenate_matrix = np.concatenate((ones_matrix,x_train_matrix),axis=1) # concatenate the x training matrix and the 1's  \n",
    "concat_transpose = concatenate_matrix.T # Transpose the concatenated matrix\n",
    "inverse_of_product = np.linalg.inv(np.matmul(concat_transpose,concatenate_matrix)) # Inverse of the product of concatenated and transpose\n",
    "\n",
    "y_training=np.matrix(ytraining) # Copy the target values\n",
    "y_training=y_training.T # Transpose the target values\n",
    "\n",
    "a=np.matmul(inverse_of_product,concat_transpose) # get the product\n",
    "b=np.matmul(a,y_training) # get the product\n",
    "print(b)"
   ]
  },
  {
   "cell_type": "code",
   "execution_count": 12,
   "id": "d2596f8e",
   "metadata": {
    "scrolled": true
   },
   "outputs": [
    {
     "name": "stdout",
     "output_type": "stream",
     "text": [
      "[[19.7223945 ]\n",
      " [-0.4172547 ]\n",
      " [ 3.83953538]\n",
      " [ 9.47788701]\n",
      " [16.17369664]\n",
      " [-2.38838577]\n",
      " [ 1.12264462]\n",
      " [-1.06411272]\n",
      " [ 4.29431642]]\n"
     ]
    }
   ],
   "source": [
    "A = np.c_[np.ones((615, 1)), Xtraining]  # add x0 = 1 to each instance\n",
    "theta = np.linalg.inv(A.T.dot(A)).dot(A.T).dot(y_training)\n",
    "print(theta)"
   ]
  },
  {
   "cell_type": "markdown",
   "id": "dd17b9b6",
   "metadata": {},
   "source": [
    "## Define Methods to Perform Gradient Descent"
   ]
  },
  {
   "cell_type": "code",
   "execution_count": 13,
   "id": "fdf60a95",
   "metadata": {},
   "outputs": [],
   "source": [
    "def computeCost(X,y,theta):\n",
    "    m=len(y)\n",
    "    J=0\n",
    "    s=0\n",
    "    \n",
    "    #iterative solution\n",
    "    for i in range(0,m): \n",
    "        s=s+((theta[0]+theta[1]*X[i,1])-y[i])**2\n",
    "    J=s/(2*m)\n",
    "    \n",
    "    #vectorized\n",
    "    y=y.reshape(m,1)\n",
    "    J1=(np.dot((np.dot(X,theta)-y).T, (np.dot(X,theta)-y)))/(2*m)\n",
    "    \n",
    "    return J1"
   ]
  },
  {
   "cell_type": "code",
   "execution_count": 14,
   "id": "80dbbac9",
   "metadata": {},
   "outputs": [],
   "source": [
    "def gradientDescent(X,y,theta,alpha,iterations):\n",
    "    \n",
    "    J_history=np.zeros((iterations,1))\n",
    "    \n",
    "    m=len(y)\n",
    "    y=y.reshape(m,1)\n",
    "    prediction_list = []\n",
    "    hypothesis = 0\n",
    "\n",
    "    for iter in range(0,iterations):\n",
    "        prediction = np.dot(X,theta)\n",
    "        prediction_list.append(prediction)\n",
    "        error = prediction - y\n",
    "        theta = theta - alpha*(1/m)*np.dot(X.T, error)\n",
    "        \n",
    "        J_history[iter]=computeCost(X,y,theta)\n",
    "        \n",
    "    return theta, J_history"
   ]
  },
  {
   "cell_type": "code",
   "execution_count": 15,
   "id": "3bd6ee6a",
   "metadata": {},
   "outputs": [],
   "source": [
    "def sumSquaresError(y, y_pred):\n",
    "    return round(((y-y_pred)**2).sum()/len(y),3)"
   ]
  },
  {
   "cell_type": "code",
   "execution_count": 16,
   "id": "c9acf5ee",
   "metadata": {},
   "outputs": [],
   "source": [
    "def predict(theta,X):\n",
    "\n",
    "    #Looping solution:solution = (theta[0]*X[i,0])+(theta[1]*X[i,1])+(theta[2]*X[i,2])+(theta[3]*X)+(theta[4]*X)+(theta[5]*X)+(theta[6]*X)+(theta[7]*X)+theta[8]\n",
    "    #solution = (theta[0]+theta[1]+theta[2]+theta[3]+theta[4]+theta[5]+theta[6]+theta[7])*X+theta[8]\n",
    "    #solution = np.dot(X, theta)\n",
    "    solution = X@theta\n",
    "\n",
    "    return solution"
   ]
  },
  {
   "cell_type": "markdown",
   "id": "2195471d",
   "metadata": {},
   "source": [
    "#### Train the model"
   ]
  },
  {
   "cell_type": "code",
   "execution_count": 17,
   "id": "2680f6cd",
   "metadata": {},
   "outputs": [],
   "source": [
    "##Train the linear model with the \n",
    "m=len(ytraining)# number of training examples\n",
    "input_X=np.c_[np.ones((m,1)),Xtraining] # Add a column of ones to X BIAS\n",
    "theta=np.ones((9,1)) # Initialize fitting parameters #this has to be 9\n",
    "\n",
    "#print(theta)\n",
    "\n",
    "iterations=10000\n",
    "alpha = 0.001  #this is the learning rate, play around with this\n",
    "\n",
    "theta1,J_history=gradientDescent(input_X,ytraining,theta,alpha,iterations)#gets the final data and the values of cost function in each iteration\n",
    "#print(\"theta1 is:\")\n",
    "#print(theta1)"
   ]
  },
  {
   "cell_type": "markdown",
   "id": "7aafb420",
   "metadata": {},
   "source": [
    "#### Sum of Squared Errors for Training Data"
   ]
  },
  {
   "cell_type": "code",
   "execution_count": 18,
   "id": "8b5549ab",
   "metadata": {},
   "outputs": [
    {
     "name": "stdout",
     "output_type": "stream",
     "text": [
      "The Sum of Squared Errors in the training set for alpha: 0.001 is: 50.074\n"
     ]
    }
   ],
   "source": [
    "#Training set error\n",
    "print(\"The Sum of Squared Errors in the training set for alpha:\", alpha, \"is:\", sumSquaresError(ytraining.reshape(615,-1), predict(theta1, input_X)))\n"
   ]
  },
  {
   "cell_type": "markdown",
   "id": "8bf87ad4",
   "metadata": {},
   "source": [
    "#### Sum of Squared Errors for Test Data"
   ]
  },
  {
   "cell_type": "code",
   "execution_count": 19,
   "id": "94da6a84",
   "metadata": {},
   "outputs": [
    {
     "name": "stdout",
     "output_type": "stream",
     "text": [
      "The Sum of Squared Errors in the test set for alpha: 0.001 is: 47.655\n"
     ]
    }
   ],
   "source": [
    "m=len(ytest)# number of training examples\n",
    "input_X_test=np.c_[np.ones((m,1)),Xtest] # Add a column of ones to X BIAS\n",
    "\n",
    "print(\"The Sum of Squared Errors in the test set for alpha:\", alpha, \"is:\", sumSquaresError(ytest.reshape(153,-1), predict(theta1, input_X_test)))\n"
   ]
  },
  {
   "cell_type": "markdown",
   "id": "709cbe90",
   "metadata": {},
   "source": [
    "## Call Predict() to test it"
   ]
  },
  {
   "cell_type": "code",
   "execution_count": 20,
   "id": "7e6f4c7d",
   "metadata": {},
   "outputs": [
    {
     "name": "stdout",
     "output_type": "stream",
     "text": [
      "shape of preds:\n",
      "(153, 1)\n"
     ]
    }
   ],
   "source": [
    "m=len(ytest)# number of test examples\n",
    "\n",
    "input_X=np.c_[np.ones((m,1)),Xtest] # Add a column of ones to X BIAS\n",
    "\n",
    "preds = predict(theta1, input_X) #make predictions on Xtest\n",
    "print(\"shape of preds:\") \n",
    "print((preds.shape))\n",
    "y_2 = ytest.reshape(153,-1)\n",
    "twod =np.column_stack((preds, y_2))\n",
    "#print(preds)\n",
    "np.savetxt('8_Features_Predicted_BMI.csv', twod, delimiter=\",\")"
   ]
  },
  {
   "cell_type": "markdown",
   "id": "5f5e8581",
   "metadata": {},
   "source": [
    "## Multiple Linear Regression Cost function vs Iterations curve"
   ]
  },
  {
   "cell_type": "code",
   "execution_count": 21,
   "id": "d98f900c",
   "metadata": {
    "scrolled": false
   },
   "outputs": [
    {
     "data": {
      "text/plain": [
       "Text(0.5, 1.0, 'Cost vs Iterations Curve')"
      ]
     },
     "execution_count": 21,
     "metadata": {},
     "output_type": "execute_result"
    },
    {
     "data": {
      "image/png": "[encoded data removed]",
      "text/plain": [
       "<Figure size 864x576 with 1 Axes>"
      ]
     },
     "metadata": {
      "needs_background": "light"
     },
     "output_type": "display_data"
    }
   ],
   "source": [
    "fig,ax = plt.subplots(figsize=(12,8))\n",
    "ax.set_ylabel('Cost')\n",
    "ax.set_xlabel('Iterations')\n",
    "ax.plot(range(iterations),J_history,'b.')\n",
    "plt.title(label=\"Error vs Iterations Curve\", fontsize=25)"
   ]
  },
  {
   "cell_type": "markdown",
   "id": "f740ac9d",
   "metadata": {},
   "source": [
    "## Iterate through Gradient Descent using a different number of learning rates\n",
    "### Perform greedy search to find optimal learning rate."
   ]
  },
  {
   "cell_type": "code",
   "execution_count": null,
   "id": "b612caa9",
   "metadata": {},
   "outputs": [],
   "source": [
    "m=len(ytraining)# number of training examples\n",
    "input_X=np.c_[np.ones((m,1)),Xtraining] # Add a column of ones to X   m=len(y) #is this column for the prediction BMI values?**\n",
    "\n",
    "iterations = np.array([100, 1000, 10000, 100000])\n",
    "\n",
    "alpha = np.array([0.05, 0.025, 0.01, 0.001, 0.0001, 0.00001])\n",
    "SSE = 100\n",
    "best_alpha = 0\n",
    "best_iteration = 0\n",
    "\n",
    "for a in (alpha):\n",
    "    for iteration in iterations:\n",
    "        theta1,J_history=gradientDescent(input_X,ytraining,theta,a,iteration)\n",
    "        print(\"The Sum of Squared Errors in the training set for alpha:\", a, \"is:\", sumSquaresError(ytraining.reshape(615,-1), predict(theta1, input_X)))\n",
    "        SSE_test = sumSquaresError(ytraining.reshape(615,-1), predict(theta1, input_X))\n",
    "        if(SSE_test<SSE):\n",
    "            SSE=SSE_test\n",
    "            best_alpha = a\n",
    "            best_iteration = iteration\n",
    "            \n",
    "            \n",
    "print(\"The optimal alpha (learning rate) is:\", best_alpha, \"and the amount of iterations is\", best_iteration, \", which gives the SSE of: \", SSE)\n",
    "    "
   ]
  },
  {
   "cell_type": "markdown",
   "id": "c58892cf",
   "metadata": {},
   "source": [
    "##### The optimal alpha (learning rate) is: 0.05 and the amount of iterations is 10000 , which gives the SSE of:  46.294"
   ]
  },
  {
   "cell_type": "markdown",
   "id": "5be652b5",
   "metadata": {},
   "source": [
    "## Multiple Linear Regression Predicted vs Actual"
   ]
  },
  {
   "cell_type": "code",
   "execution_count": 23,
   "id": "63ec04e2",
   "metadata": {
    "scrolled": false
   },
   "outputs": [
    {
     "data": {
      "image/png": "[encoded data removed]",
      "text/plain": [
       "<Figure size 432x288 with 1 Axes>"
      ]
     },
     "metadata": {
      "needs_background": "light"
     },
     "output_type": "display_data"
    }
   ],
   "source": [
    "xAxis = np.arange(0,76.5,0.5) #configure the x axis\n",
    "plt.scatter(xAxis, ytest, color = 'orange') #plot the actual y test output BMI values\n",
    "plt.scatter(xAxis, preds, color = 'black') #plot the predicted BMI values\n",
    "plt.title(label=\"Predicted (Black) vs Actual (Orange) BMI Values\", fontsize=20)\n",
    "plt.show() #show the plot"
   ]
  },
  {
   "cell_type": "markdown",
   "id": "77a7bf28",
   "metadata": {},
   "source": [
    "## Perform PCA on the dataset and reduce the dimensionality to 2 and train a new model on these newly obtained features."
   ]
  },
  {
   "cell_type": "code",
   "execution_count": 24,
   "id": "1244d37e",
   "metadata": {},
   "outputs": [
    {
     "name": "stdout",
     "output_type": "stream",
     "text": [
      "[0.56790606 0.1363363 ]\n",
      "[12.14705957  5.95166744]\n",
      "[[ 0.11264745  0.173868    0.03076219  0.02892926  0.05217534  0.06143347\n",
      "   0.11900892  0.96676667]\n",
      " [ 0.6620002   0.07517462  0.16919245 -0.17373986 -0.09968146 -0.08458772\n",
      "   0.67352326 -0.16299642]]\n"
     ]
    },
    {
     "data": {
      "text/plain": [
       "Text(0.5, 1.0, 'Scatter Plot of Training PCA Features')"
      ]
     },
     "execution_count": 24,
     "metadata": {},
     "output_type": "execute_result"
    },
    {
     "data": {
      "image/png": "[encoded data removed]",
      "text/plain": [
       "<Figure size 432x288 with 1 Axes>"
      ]
     },
     "metadata": {
      "needs_background": "light"
     },
     "output_type": "display_data"
    }
   ],
   "source": [
    "from sklearn.decomposition import PCA\n",
    "pca_train = PCA(n_components=2) #Number of components to keep. if n_components is not set all components are kept:\n",
    "#pca.fit(Xtraining) #have this fit to the x values that you want \n",
    "#P=pca.transform(Xtraining)\n",
    "PCA_train = pca_train.fit_transform(Xtraining)\n",
    "print(pca_train.explained_variance_ratio_)\n",
    "print(pca_train.singular_values_)\n",
    "print(pca_train.components_)\n",
    "plt.scatter(PCA_train[:,0], PCA_train[:,1])\n",
    "plt.title(label=\"Scatter Plot of Training PCA Features\", fontsize=25)"
   ]
  },
  {
   "cell_type": "code",
   "execution_count": 25,
   "id": "b478c4d8",
   "metadata": {
    "scrolled": false
   },
   "outputs": [
    {
     "name": "stdout",
     "output_type": "stream",
     "text": [
      "[[ 0.70610325  0.16145937]\n",
      " [-0.39703081 -0.09515428]\n",
      " [ 0.70316871  0.09920973]\n",
      " ...\n",
      " [ 0.74044283  0.06200522]\n",
      " [-0.33928074  0.0531164 ]\n",
      " [ 0.73541686  0.35651705]]\n",
      "(615, 2)\n"
     ]
    }
   ],
   "source": [
    "print(PCA_train)\n",
    "print(PCA_train.shape)"
   ]
  },
  {
   "cell_type": "markdown",
   "id": "cc11f426",
   "metadata": {},
   "source": [
    "#### Train the new model with PCA (2-dimentional) Training Data"
   ]
  },
  {
   "cell_type": "code",
   "execution_count": 26,
   "id": "a1ecd7b2",
   "metadata": {},
   "outputs": [
    {
     "name": "stdout",
     "output_type": "stream",
     "text": [
      "The Sum of Squared Errors in the training set for alpha: 0.001 is: 56.467\n"
     ]
    }
   ],
   "source": [
    "## Train the linear model with the two new PCA features\n",
    "m=len(ytraining)# number of training examples\n",
    "input_X_PCA_train = np.c_[np.ones((m,1)),PCA_train] # Add a column of ones to represent the bias\n",
    "theta=np.ones((3,1)) # Initialize fitting parameters to 3 1's\n",
    "iterations=10000\n",
    "alpha = 0.001  #this is the learning rate, play around with this\n",
    "thetaPCA,PCA_cost=gradientDescent(input_X_PCA_train,ytraining,theta,alpha,iterations)#gets the final data and the values of cost function in each iteration\n",
    "print(\"The Sum of Squared Errors in the training set for alpha:\", alpha, \"is:\", sumSquaresError(ytraining.reshape(615,-1), predict(thetaPCA, input_X_PCA_train)))\n"
   ]
  },
  {
   "cell_type": "markdown",
   "id": "fa5fabaa",
   "metadata": {},
   "source": [
    "#### Reduce Dimentions of the Test Data using PCA (2-dimentional) "
   ]
  },
  {
   "cell_type": "code",
   "execution_count": 27,
   "id": "dab6076b",
   "metadata": {
    "scrolled": false
   },
   "outputs": [
    {
     "name": "stdout",
     "output_type": "stream",
     "text": [
      "[0.59237729 0.1424136 ]\n",
      "[6.09509119 2.98852391]\n",
      "[[ 0.13497234  0.15917749  0.04277104  0.02124144  0.00747297  0.03214294\n",
      "   0.15641545  0.96364393]\n",
      " [ 0.67712274 -0.03165663  0.23986607 -0.15852164 -0.18073913 -0.01027325\n",
      "   0.62182658 -0.19595239]]\n"
     ]
    },
    {
     "data": {
      "text/plain": [
       "Text(0.5, 1.0, 'Scatter Plot of Test PCA Features')"
      ]
     },
     "execution_count": 27,
     "metadata": {},
     "output_type": "execute_result"
    },
    {
     "data": {
      "image/png": "[encoded data removed]",
      "text/plain": [
       "<Figure size 432x288 with 1 Axes>"
      ]
     },
     "metadata": {
      "needs_background": "light"
     },
     "output_type": "display_data"
    }
   ],
   "source": [
    "# Reduce the testing features to 2 values using PCA\n",
    "pca_test = PCA(n_components=2) #Number of components to keep. if n_components is not set all components are kept:\n",
    "PCA_test = pca_test.fit_transform(Xtest)\n",
    "print(pca_test.explained_variance_ratio_)\n",
    "print(pca_test.singular_values_)\n",
    "print(pca_test.components_)\n",
    "plt.scatter(PCA_test[:,0], PCA_test[:,1])\n",
    "plt.title(label=\"Scatter Plot of Test PCA Features\", fontsize=25)"
   ]
  },
  {
   "cell_type": "markdown",
   "id": "44e2191c",
   "metadata": {},
   "source": [
    "#### Sum of Squared Errors for PCA (2-dimentional) Test Data"
   ]
  },
  {
   "cell_type": "code",
   "execution_count": 28,
   "id": "2baaee6f",
   "metadata": {},
   "outputs": [
    {
     "name": "stdout",
     "output_type": "stream",
     "text": [
      "The Sum of Squared Errors in the training set for alpha: 0.001 is: 55.74\n"
     ]
    }
   ],
   "source": [
    "m=len(ytest)# number of training examples\n",
    "input_X_PCA_test=np.c_[np.ones((m,1)),PCA_test] # Add a column of ones to X BIAS\n",
    "\n",
    "print(\"The Sum of Squared Errors in the training set for alpha:\", alpha, \"is:\", sumSquaresError(ytest.reshape(153,-1), predict(thetaPCA, input_X_PCA_test)))"
   ]
  },
  {
   "cell_type": "code",
   "execution_count": 29,
   "id": "0129e47e",
   "metadata": {},
   "outputs": [
    {
     "name": "stdout",
     "output_type": "stream",
     "text": [
      "shape of preds:\n",
      "(153, 1)\n"
     ]
    }
   ],
   "source": [
    "# Predict the output given the testing data with the PCA features\n",
    "m=len(ytest)# number of test examples\n",
    "input_X_PCA_test=np.c_[np.ones((m,1)),PCA_test] # Add a column of ones to X BIAS\n",
    "preds = predict(thetaPCA, input_X_PCA_test) #make predictions on Xtest\n",
    "print(\"shape of preds:\") \n",
    "print((preds.shape))\n",
    "\n",
    "y_2 = ytest.reshape(153,-1)\n",
    "twod =np.column_stack((preds, y_2))\n",
    "#print(preds)\n",
    "np.savetxt(\"PCA_Predicted_BMI.csv\", twod, delimiter=\",\") #export the predicted values to a csv file\n"
   ]
  },
  {
   "cell_type": "markdown",
   "id": "6635cdde",
   "metadata": {},
   "source": [
    "## PCA predicted vs actual"
   ]
  },
  {
   "cell_type": "code",
   "execution_count": 30,
   "id": "497cf298",
   "metadata": {},
   "outputs": [
    {
     "data": {
      "image/png": "[encoded data removed]",
      "text/plain": [
       "<Figure size 432x288 with 1 Axes>"
      ]
     },
     "metadata": {
      "needs_background": "light"
     },
     "output_type": "display_data"
    }
   ],
   "source": [
    "xAxis = np.arange(0,76.5,0.5) #configure the x axis\n",
    "plt.scatter(xAxis, ytest, color = 'orange') #plot the actual y test output BMI values\n",
    "plt.scatter(xAxis, preds, color = 'black') #plot the predicted BMI values\n",
    "plt.title(label=\"Predicted (Black) vs Actual (Orange) BMI Values\", fontsize=20)\n",
    "plt.show() #show the plot"
   ]
  },
  {
   "cell_type": "markdown",
   "id": "c86f28b4",
   "metadata": {},
   "source": [
    "## PCA Cost function vs Iterations curve"
   ]
  },
  {
   "cell_type": "code",
   "execution_count": 31,
   "id": "58e5dd5e",
   "metadata": {
    "scrolled": false
   },
   "outputs": [
    {
     "data": {
      "text/plain": [
       "Text(0.5, 1.0, 'Cost vs Iterations Curve')"
      ]
     },
     "execution_count": 31,
     "metadata": {},
     "output_type": "execute_result"
    },
    {
     "data": {
      "image/png": "[encoded data removed]",
      "text/plain": [
       "<Figure size 864x576 with 1 Axes>"
      ]
     },
     "metadata": {
      "needs_background": "light"
     },
     "output_type": "display_data"
    }
   ],
   "source": [
    "fig,ax = plt.subplots(figsize=(12,8))\n",
    "ax.set_ylabel('Cost')\n",
    "ax.set_xlabel('Iterations')\n",
    "ax.plot(range(iterations),PCA_cost,'b.')\n",
    "plt.title(label=\"Cost vs Iterations Curve\", fontsize=25)"
   ]
  },
  {
   "cell_type": "code",
   "execution_count": 32,
   "id": "03a9a8be",
   "metadata": {},
   "outputs": [],
   "source": [
    "thetaPlot = np.delete(thetaPCA,1) #delete the middle element out of theta"
   ]
  },
  {
   "cell_type": "code",
   "execution_count": 33,
   "id": "d0468b54",
   "metadata": {},
   "outputs": [
    {
     "data": {
      "text/plain": [
       "array([31.89584004, -0.51827854])"
      ]
     },
     "execution_count": 33,
     "metadata": {},
     "output_type": "execute_result"
    }
   ],
   "source": [
    "thetaPlot"
   ]
  },
  {
   "cell_type": "markdown",
   "id": "03fe0ab3",
   "metadata": {},
   "source": [
    "### Show the scatter plot of PCA generated new features and also show the linear regression curve that you got from new model."
   ]
  },
  {
   "cell_type": "code",
   "execution_count": 34,
   "id": "680a458f",
   "metadata": {},
   "outputs": [
    {
     "data": {
      "text/plain": [
       "Text(0, 0.5, '$y$')"
      ]
     },
     "execution_count": 34,
     "metadata": {},
     "output_type": "execute_result"
    },
    {
     "data": {
      "image/png": "[encoded data removed]",
      "text/plain": [
       "<Figure size 432x288 with 1 Axes>"
      ]
     },
     "metadata": {
      "needs_background": "light"
     },
     "output_type": "display_data"
    }
   ],
   "source": [
    "X_ln = np.array([Xtest.min(),Xtest.max()]) #Plot a line between min x and max x\n",
    "A_ln = np.c_[np.ones((2,1)),X_ln]\n",
    "y_ln = A_ln.dot(thetaPlot)\n",
    "\n",
    "plt.figure(1)\n",
    "plt.plot(X_ln,y_ln,'r-',zorder=10)\n",
    "plt.plot(PCA_train,ytraining,'b.', zorder=1)\n",
    "plt.xlabel(\"$x$\", fontsize=18)\n",
    "plt.ylabel(\"$y$\", rotation=0, fontsize=18)"
   ]
  },
  {
   "cell_type": "code",
   "execution_count": null,
   "id": "8c542a42",
   "metadata": {},
   "outputs": [],
   "source": [
    "X_ln = np.array([Xtest.min(),Xtest.max()]) #Plot a line between min x and max x\n",
    "A_ln = np.c_[np.ones((2,1)),X_ln]\n",
    "y_ln = A_ln.dot(thetaPlot)\n",
    "\n",
    "plt.figure(1)\n",
    "plt.plot(X_ln,y_ln,'r-',zorder=10)\n",
    "plt.plot(norm_X,y,'b.', zorder=1)\n",
    "plt.xlabel(\"$x$\", fontsize=18)\n",
    "plt.ylabel(\"$y$\", rotation=0, fontsize=18)"
   ]
  },
  {
   "cell_type": "code",
   "execution_count": null,
   "id": "b5d13744",
   "metadata": {},
   "outputs": [],
   "source": []
  }
 ],
 "metadata": {
  "kernelspec": {
   "display_name": "Python 3 (ipykernel)",
   "language": "python",
   "name": "python3"
  },
  "language_info": {
   "codemirror_mode": {
    "name": "ipython",
    "version": 3
   },
   "file_extension": ".py",
   "mimetype": "text/x-python",
   "name": "python",
   "nbconvert_exporter": "python",
   "pygments_lexer": "ipython3",
   "version": "3.9.7"
  }
 },
 "nbformat": 4,
 "nbformat_minor": 5
}
